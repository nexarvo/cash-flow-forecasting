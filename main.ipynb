{
 "cells": [
  {
   "cell_type": "markdown",
   "metadata": {},
   "source": [
    "### Install Dependencies"
   ]
  },
  {
   "cell_type": "code",
   "execution_count": 2,
   "metadata": {},
   "outputs": [
    {
     "name": "stdout",
     "output_type": "stream",
     "text": [
      "Requirement already satisfied: pandas in ./.venv/lib/python3.10/site-packages (2.3.0)\n",
      "Requirement already satisfied: matplotlib in ./.venv/lib/python3.10/site-packages (3.10.3)\n",
      "Requirement already satisfied: prophet in ./.venv/lib/python3.10/site-packages (1.1.7)\n",
      "Requirement already satisfied: scikit-learn in ./.venv/lib/python3.10/site-packages (1.7.0)\n",
      "Requirement already satisfied: seaborn in ./.venv/lib/python3.10/site-packages (0.13.2)\n",
      "Requirement already satisfied: datasets in ./.venv/lib/python3.10/site-packages (3.6.0)\n",
      "Requirement already satisfied: torch in ./.venv/lib/python3.10/site-packages (2.6.0)\n",
      "Requirement already satisfied: numpy>=1.22.4 in ./.venv/lib/python3.10/site-packages (from pandas) (2.2.6)\n",
      "Requirement already satisfied: python-dateutil>=2.8.2 in ./.venv/lib/python3.10/site-packages (from pandas) (2.9.0.post0)\n",
      "Requirement already satisfied: pytz>=2020.1 in ./.venv/lib/python3.10/site-packages (from pandas) (2025.2)\n",
      "Requirement already satisfied: tzdata>=2022.7 in ./.venv/lib/python3.10/site-packages (from pandas) (2025.2)\n",
      "Requirement already satisfied: contourpy>=1.0.1 in ./.venv/lib/python3.10/site-packages (from matplotlib) (1.3.2)\n",
      "Requirement already satisfied: cycler>=0.10 in ./.venv/lib/python3.10/site-packages (from matplotlib) (0.12.1)\n",
      "Requirement already satisfied: fonttools>=4.22.0 in ./.venv/lib/python3.10/site-packages (from matplotlib) (4.58.4)\n",
      "Requirement already satisfied: kiwisolver>=1.3.1 in ./.venv/lib/python3.10/site-packages (from matplotlib) (1.4.8)\n",
      "Requirement already satisfied: packaging>=20.0 in ./.venv/lib/python3.10/site-packages (from matplotlib) (24.2)\n",
      "Requirement already satisfied: pillow>=8 in ./.venv/lib/python3.10/site-packages (from matplotlib) (11.2.1)\n",
      "Requirement already satisfied: pyparsing>=2.3.1 in ./.venv/lib/python3.10/site-packages (from matplotlib) (3.2.3)\n",
      "Requirement already satisfied: cmdstanpy>=1.0.4 in ./.venv/lib/python3.10/site-packages (from prophet) (1.2.5)\n",
      "Requirement already satisfied: holidays<1,>=0.25 in ./.venv/lib/python3.10/site-packages (from prophet) (0.74)\n",
      "Requirement already satisfied: tqdm>=4.36.1 in ./.venv/lib/python3.10/site-packages (from prophet) (4.67.1)\n",
      "Requirement already satisfied: importlib_resources in ./.venv/lib/python3.10/site-packages (from prophet) (6.5.2)\n",
      "Requirement already satisfied: scipy>=1.8.0 in ./.venv/lib/python3.10/site-packages (from scikit-learn) (1.15.3)\n",
      "Requirement already satisfied: joblib>=1.2.0 in ./.venv/lib/python3.10/site-packages (from scikit-learn) (1.5.1)\n",
      "Requirement already satisfied: threadpoolctl>=3.1.0 in ./.venv/lib/python3.10/site-packages (from scikit-learn) (3.6.0)\n",
      "Requirement already satisfied: filelock in ./.venv/lib/python3.10/site-packages (from datasets) (3.18.0)\n",
      "Requirement already satisfied: pyarrow>=15.0.0 in ./.venv/lib/python3.10/site-packages (from datasets) (20.0.0)\n",
      "Requirement already satisfied: dill<0.3.9,>=0.3.0 in ./.venv/lib/python3.10/site-packages (from datasets) (0.3.8)\n",
      "Requirement already satisfied: requests>=2.32.2 in ./.venv/lib/python3.10/site-packages (from datasets) (2.32.4)\n",
      "Requirement already satisfied: xxhash in ./.venv/lib/python3.10/site-packages (from datasets) (3.5.0)\n",
      "Requirement already satisfied: multiprocess<0.70.17 in ./.venv/lib/python3.10/site-packages (from datasets) (0.70.16)\n",
      "Requirement already satisfied: fsspec<=2025.3.0,>=2023.1.0 in ./.venv/lib/python3.10/site-packages (from fsspec[http]<=2025.3.0,>=2023.1.0->datasets) (2025.3.0)\n",
      "Requirement already satisfied: huggingface-hub>=0.24.0 in ./.venv/lib/python3.10/site-packages (from datasets) (0.33.0)\n",
      "Requirement already satisfied: pyyaml>=5.1 in ./.venv/lib/python3.10/site-packages (from datasets) (6.0.2)\n",
      "Requirement already satisfied: aiohttp!=4.0.0a0,!=4.0.0a1 in ./.venv/lib/python3.10/site-packages (from fsspec[http]<=2025.3.0,>=2023.1.0->datasets) (3.12.13)\n",
      "Requirement already satisfied: typing-extensions>=4.10.0 in ./.venv/lib/python3.10/site-packages (from torch) (4.14.0)\n",
      "Requirement already satisfied: networkx in ./.venv/lib/python3.10/site-packages (from torch) (3.4.2)\n",
      "Requirement already satisfied: jinja2 in ./.venv/lib/python3.10/site-packages (from torch) (3.1.6)\n",
      "Requirement already satisfied: sympy==1.13.1 in ./.venv/lib/python3.10/site-packages (from torch) (1.13.1)\n",
      "Requirement already satisfied: mpmath<1.4,>=1.1.0 in ./.venv/lib/python3.10/site-packages (from sympy==1.13.1->torch) (1.3.0)\n",
      "Requirement already satisfied: aiohappyeyeballs>=2.5.0 in ./.venv/lib/python3.10/site-packages (from aiohttp!=4.0.0a0,!=4.0.0a1->fsspec[http]<=2025.3.0,>=2023.1.0->datasets) (2.6.1)\n",
      "Requirement already satisfied: aiosignal>=1.1.2 in ./.venv/lib/python3.10/site-packages (from aiohttp!=4.0.0a0,!=4.0.0a1->fsspec[http]<=2025.3.0,>=2023.1.0->datasets) (1.3.2)\n",
      "Requirement already satisfied: async-timeout<6.0,>=4.0 in ./.venv/lib/python3.10/site-packages (from aiohttp!=4.0.0a0,!=4.0.0a1->fsspec[http]<=2025.3.0,>=2023.1.0->datasets) (5.0.1)\n",
      "Requirement already satisfied: attrs>=17.3.0 in ./.venv/lib/python3.10/site-packages (from aiohttp!=4.0.0a0,!=4.0.0a1->fsspec[http]<=2025.3.0,>=2023.1.0->datasets) (25.3.0)\n",
      "Requirement already satisfied: frozenlist>=1.1.1 in ./.venv/lib/python3.10/site-packages (from aiohttp!=4.0.0a0,!=4.0.0a1->fsspec[http]<=2025.3.0,>=2023.1.0->datasets) (1.7.0)\n",
      "Requirement already satisfied: multidict<7.0,>=4.5 in ./.venv/lib/python3.10/site-packages (from aiohttp!=4.0.0a0,!=4.0.0a1->fsspec[http]<=2025.3.0,>=2023.1.0->datasets) (6.4.4)\n",
      "Requirement already satisfied: propcache>=0.2.0 in ./.venv/lib/python3.10/site-packages (from aiohttp!=4.0.0a0,!=4.0.0a1->fsspec[http]<=2025.3.0,>=2023.1.0->datasets) (0.3.2)\n",
      "Requirement already satisfied: yarl<2.0,>=1.17.0 in ./.venv/lib/python3.10/site-packages (from aiohttp!=4.0.0a0,!=4.0.0a1->fsspec[http]<=2025.3.0,>=2023.1.0->datasets) (1.20.1)\n",
      "Requirement already satisfied: idna>=2.0 in ./.venv/lib/python3.10/site-packages (from yarl<2.0,>=1.17.0->aiohttp!=4.0.0a0,!=4.0.0a1->fsspec[http]<=2025.3.0,>=2023.1.0->datasets) (3.10)\n",
      "Requirement already satisfied: stanio<2.0.0,>=0.4.0 in ./.venv/lib/python3.10/site-packages (from cmdstanpy>=1.0.4->prophet) (0.5.1)\n",
      "Requirement already satisfied: hf-xet<2.0.0,>=1.1.2 in ./.venv/lib/python3.10/site-packages (from huggingface-hub>=0.24.0->datasets) (1.1.3)\n",
      "Requirement already satisfied: six>=1.5 in ./.venv/lib/python3.10/site-packages (from python-dateutil>=2.8.2->pandas) (1.17.0)\n",
      "Requirement already satisfied: charset_normalizer<4,>=2 in ./.venv/lib/python3.10/site-packages (from requests>=2.32.2->datasets) (3.4.2)\n",
      "Requirement already satisfied: urllib3<3,>=1.21.1 in ./.venv/lib/python3.10/site-packages (from requests>=2.32.2->datasets) (2.4.0)\n",
      "Requirement already satisfied: certifi>=2017.4.17 in ./.venv/lib/python3.10/site-packages (from requests>=2.32.2->datasets) (2025.6.15)\n",
      "Requirement already satisfied: MarkupSafe>=2.0 in ./.venv/lib/python3.10/site-packages (from jinja2->torch) (3.0.2)\n",
      "Note: you may need to restart the kernel to use updated packages.\n"
     ]
    }
   ],
   "source": [
    "%pip install pandas matplotlib prophet scikit-learn seaborn datasets torch"
   ]
  },
  {
   "cell_type": "code",
   "execution_count": 3,
   "metadata": {},
   "outputs": [
    {
     "name": "stdout",
     "output_type": "stream",
     "text": [
      "Requirement already satisfied: transformers in ./.venv/lib/python3.10/site-packages (4.52.4)\n",
      "Requirement already satisfied: filelock in ./.venv/lib/python3.10/site-packages (from transformers) (3.18.0)\n",
      "Requirement already satisfied: huggingface-hub<1.0,>=0.30.0 in ./.venv/lib/python3.10/site-packages (from transformers) (0.33.0)\n",
      "Requirement already satisfied: numpy>=1.17 in ./.venv/lib/python3.10/site-packages (from transformers) (2.2.6)\n",
      "Requirement already satisfied: packaging>=20.0 in ./.venv/lib/python3.10/site-packages (from transformers) (24.2)\n",
      "Requirement already satisfied: pyyaml>=5.1 in ./.venv/lib/python3.10/site-packages (from transformers) (6.0.2)\n",
      "Requirement already satisfied: regex!=2019.12.17 in ./.venv/lib/python3.10/site-packages (from transformers) (2024.11.6)\n",
      "Requirement already satisfied: requests in ./.venv/lib/python3.10/site-packages (from transformers) (2.32.4)\n",
      "Requirement already satisfied: tokenizers<0.22,>=0.21 in ./.venv/lib/python3.10/site-packages (from transformers) (0.21.1)\n",
      "Requirement already satisfied: safetensors>=0.4.3 in ./.venv/lib/python3.10/site-packages (from transformers) (0.5.3)\n",
      "Requirement already satisfied: tqdm>=4.27 in ./.venv/lib/python3.10/site-packages (from transformers) (4.67.1)\n",
      "Requirement already satisfied: fsspec>=2023.5.0 in ./.venv/lib/python3.10/site-packages (from huggingface-hub<1.0,>=0.30.0->transformers) (2025.3.0)\n",
      "Requirement already satisfied: typing-extensions>=3.7.4.3 in ./.venv/lib/python3.10/site-packages (from huggingface-hub<1.0,>=0.30.0->transformers) (4.14.0)\n",
      "Requirement already satisfied: hf-xet<2.0.0,>=1.1.2 in ./.venv/lib/python3.10/site-packages (from huggingface-hub<1.0,>=0.30.0->transformers) (1.1.3)\n",
      "Requirement already satisfied: charset_normalizer<4,>=2 in ./.venv/lib/python3.10/site-packages (from requests->transformers) (3.4.2)\n",
      "Requirement already satisfied: idna<4,>=2.5 in ./.venv/lib/python3.10/site-packages (from requests->transformers) (3.10)\n",
      "Requirement already satisfied: urllib3<3,>=1.21.1 in ./.venv/lib/python3.10/site-packages (from requests->transformers) (2.4.0)\n",
      "Requirement already satisfied: certifi>=2017.4.17 in ./.venv/lib/python3.10/site-packages (from requests->transformers) (2025.6.15)\n",
      "Note: you may need to restart the kernel to use updated packages.\n"
     ]
    }
   ],
   "source": [
    "%pip install -U transformers"
   ]
  },
  {
   "cell_type": "markdown",
   "metadata": {},
   "source": [
    "### Dataset Analyze and Cleaning"
   ]
  },
  {
   "cell_type": "code",
   "execution_count": 4,
   "metadata": {},
   "outputs": [
    {
     "name": "stdout",
     "output_type": "stream",
     "text": [
      "(200000, 24)\n",
      "Customer_ID                        object\n",
      "Customer_Name                      object\n",
      "Gender                             object\n",
      "Age                                 int64\n",
      "State                              object\n",
      "City                               object\n",
      "Bank_Branch                        object\n",
      "Account_Type                       object\n",
      "Transaction_ID                     object\n",
      "Transaction_Date           datetime64[ns]\n",
      "Transaction_Time                   object\n",
      "Transaction_Amount                float64\n",
      "Merchant_ID                        object\n",
      "Transaction_Type                   object\n",
      "Merchant_Category                  object\n",
      "Account_Balance                   float64\n",
      "Transaction_Device                 object\n",
      "Transaction_Location               object\n",
      "Device_Type                        object\n",
      "Is_Fraud                            int64\n",
      "Transaction_Currency               object\n",
      "Customer_Contact                   object\n",
      "Transaction_Description            object\n",
      "Customer_Email                     object\n",
      "dtype: object\n"
     ]
    },
    {
     "name": "stderr",
     "output_type": "stream",
     "text": [
      "/var/folders/5y/wz5xr6w53tb0sqrrgqvz2r1m0000gn/T/ipykernel_58699/2978175523.py:5: UserWarning: Parsing dates in %d-%m-%Y format when dayfirst=False (the default) was specified. Pass `dayfirst=True` or specify a format to silence this warning.\n",
      "  df = pd.read_csv(\"Bank_Transaction_Dataset.csv\", parse_dates=[\"Transaction_Date\"])\n"
     ]
    },
    {
     "data": {
      "text/html": [
       "<div>\n",
       "<style scoped>\n",
       "    .dataframe tbody tr th:only-of-type {\n",
       "        vertical-align: middle;\n",
       "    }\n",
       "\n",
       "    .dataframe tbody tr th {\n",
       "        vertical-align: top;\n",
       "    }\n",
       "\n",
       "    .dataframe thead th {\n",
       "        text-align: right;\n",
       "    }\n",
       "</style>\n",
       "<table border=\"1\" class=\"dataframe\">\n",
       "  <thead>\n",
       "    <tr style=\"text-align: right;\">\n",
       "      <th></th>\n",
       "      <th>Customer_ID</th>\n",
       "      <th>Customer_Name</th>\n",
       "      <th>Gender</th>\n",
       "      <th>Age</th>\n",
       "      <th>State</th>\n",
       "      <th>City</th>\n",
       "      <th>Bank_Branch</th>\n",
       "      <th>Account_Type</th>\n",
       "      <th>Transaction_ID</th>\n",
       "      <th>Transaction_Date</th>\n",
       "      <th>...</th>\n",
       "      <th>Merchant_Category</th>\n",
       "      <th>Account_Balance</th>\n",
       "      <th>Transaction_Device</th>\n",
       "      <th>Transaction_Location</th>\n",
       "      <th>Device_Type</th>\n",
       "      <th>Is_Fraud</th>\n",
       "      <th>Transaction_Currency</th>\n",
       "      <th>Customer_Contact</th>\n",
       "      <th>Transaction_Description</th>\n",
       "      <th>Customer_Email</th>\n",
       "    </tr>\n",
       "  </thead>\n",
       "  <tbody>\n",
       "    <tr>\n",
       "      <th>199995</th>\n",
       "      <td>b8bdae19-296f-48b7-9104-e055d33a09ac</td>\n",
       "      <td>Vedhika Magar</td>\n",
       "      <td>Female</td>\n",
       "      <td>55</td>\n",
       "      <td>Dadra and Nagar Haveli and Daman and Diu</td>\n",
       "      <td>Diu</td>\n",
       "      <td>Diu Branch</td>\n",
       "      <td>Business</td>\n",
       "      <td>8d856bc7-4666-4509-a067-48d67500694a</td>\n",
       "      <td>2025-01-08</td>\n",
       "      <td>...</td>\n",
       "      <td>Restaurant</td>\n",
       "      <td>37475.11</td>\n",
       "      <td>Desktop/Laptop</td>\n",
       "      <td>Diu, Dadra and Nagar Haveli and Daman and Diu</td>\n",
       "      <td>ATM</td>\n",
       "      <td>0</td>\n",
       "      <td>INR</td>\n",
       "      <td>+9192629XXXXXX</td>\n",
       "      <td>ATM withdrawal</td>\n",
       "      <td>vedhikaXXXXX@XXXXXXX.com</td>\n",
       "    </tr>\n",
       "    <tr>\n",
       "      <th>199996</th>\n",
       "      <td>635bc099-8a93-48ee-829a-bf2283fe8fda</td>\n",
       "      <td>Aashi Pai</td>\n",
       "      <td>Male</td>\n",
       "      <td>51</td>\n",
       "      <td>Manipur</td>\n",
       "      <td>Kangpokpi</td>\n",
       "      <td>Kangpokpi Branch</td>\n",
       "      <td>Business</td>\n",
       "      <td>f2890dbd-4e01-445d-97f5-ac56886e9037</td>\n",
       "      <td>2025-01-01</td>\n",
       "      <td>...</td>\n",
       "      <td>Groceries</td>\n",
       "      <td>53037.20</td>\n",
       "      <td>ATM</td>\n",
       "      <td>Kangpokpi, Manipur</td>\n",
       "      <td>ATM</td>\n",
       "      <td>0</td>\n",
       "      <td>INR</td>\n",
       "      <td>+9198116XXXXXX</td>\n",
       "      <td>Subscription box</td>\n",
       "      <td>aashiXXX@XXXXXX.com</td>\n",
       "    </tr>\n",
       "    <tr>\n",
       "      <th>199997</th>\n",
       "      <td>c1b31cc2-0905-47e8-8cc5-6461d1f3ba33</td>\n",
       "      <td>Dayita Shan</td>\n",
       "      <td>Female</td>\n",
       "      <td>41</td>\n",
       "      <td>Chandigarh</td>\n",
       "      <td>Chandigarh</td>\n",
       "      <td>Chandigarh Branch</td>\n",
       "      <td>Savings</td>\n",
       "      <td>f714b758-7539-474d-b676-5fa7e2480141</td>\n",
       "      <td>2025-01-28</td>\n",
       "      <td>...</td>\n",
       "      <td>Health</td>\n",
       "      <td>96225.36</td>\n",
       "      <td>ATM</td>\n",
       "      <td>Chandigarh, Chandigarh</td>\n",
       "      <td>Desktop</td>\n",
       "      <td>0</td>\n",
       "      <td>INR</td>\n",
       "      <td>+9192601XXXXXX</td>\n",
       "      <td>Charity donation</td>\n",
       "      <td>dayitaXXXX@XXXXXXX.com</td>\n",
       "    </tr>\n",
       "    <tr>\n",
       "      <th>199998</th>\n",
       "      <td>32bb8e66-f3fa-43bf-8242-dab9a6116310</td>\n",
       "      <td>Unnati Vyas</td>\n",
       "      <td>Female</td>\n",
       "      <td>28</td>\n",
       "      <td>Telangana</td>\n",
       "      <td>Nizamabad</td>\n",
       "      <td>Nizamabad Branch</td>\n",
       "      <td>Checking</td>\n",
       "      <td>f6903b6a-b582-47ea-95d5-aff16bdec950</td>\n",
       "      <td>2025-01-08</td>\n",
       "      <td>...</td>\n",
       "      <td>Electronics</td>\n",
       "      <td>89599.90</td>\n",
       "      <td>Voice Assistant</td>\n",
       "      <td>Nizamabad, Telangana</td>\n",
       "      <td>Desktop</td>\n",
       "      <td>0</td>\n",
       "      <td>INR</td>\n",
       "      <td>+9197537XXXXXX</td>\n",
       "      <td>Tourist attraction payment</td>\n",
       "      <td>unnatiXXX@XXXXX.com</td>\n",
       "    </tr>\n",
       "    <tr>\n",
       "      <th>199999</th>\n",
       "      <td>f3dd92ef-b17a-45d2-b6cb-fdbee20843fe</td>\n",
       "      <td>Gopal Rout</td>\n",
       "      <td>Male</td>\n",
       "      <td>34</td>\n",
       "      <td>Nagaland</td>\n",
       "      <td>Kohima</td>\n",
       "      <td>Kohima Branch</td>\n",
       "      <td>Business</td>\n",
       "      <td>b44b6e8a-1036-4ec1-b492-5e7ffc7baf6d</td>\n",
       "      <td>2025-01-08</td>\n",
       "      <td>...</td>\n",
       "      <td>Electronics</td>\n",
       "      <td>15066.24</td>\n",
       "      <td>Virtual Card</td>\n",
       "      <td>Kohima, Nagaland</td>\n",
       "      <td>Mobile</td>\n",
       "      <td>0</td>\n",
       "      <td>INR</td>\n",
       "      <td>+9193961XXXXXX</td>\n",
       "      <td>Installment payment</td>\n",
       "      <td>gopalXXXXX@XXXXXXX.com</td>\n",
       "    </tr>\n",
       "  </tbody>\n",
       "</table>\n",
       "<p>5 rows × 24 columns</p>\n",
       "</div>"
      ],
      "text/plain": [
       "                                 Customer_ID  Customer_Name  Gender  Age  \\\n",
       "199995  b8bdae19-296f-48b7-9104-e055d33a09ac  Vedhika Magar  Female   55   \n",
       "199996  635bc099-8a93-48ee-829a-bf2283fe8fda      Aashi Pai    Male   51   \n",
       "199997  c1b31cc2-0905-47e8-8cc5-6461d1f3ba33    Dayita Shan  Female   41   \n",
       "199998  32bb8e66-f3fa-43bf-8242-dab9a6116310    Unnati Vyas  Female   28   \n",
       "199999  f3dd92ef-b17a-45d2-b6cb-fdbee20843fe     Gopal Rout    Male   34   \n",
       "\n",
       "                                           State        City  \\\n",
       "199995  Dadra and Nagar Haveli and Daman and Diu         Diu   \n",
       "199996                                   Manipur   Kangpokpi   \n",
       "199997                                Chandigarh  Chandigarh   \n",
       "199998                                 Telangana   Nizamabad   \n",
       "199999                                  Nagaland      Kohima   \n",
       "\n",
       "              Bank_Branch Account_Type                        Transaction_ID  \\\n",
       "199995         Diu Branch     Business  8d856bc7-4666-4509-a067-48d67500694a   \n",
       "199996   Kangpokpi Branch     Business  f2890dbd-4e01-445d-97f5-ac56886e9037   \n",
       "199997  Chandigarh Branch      Savings  f714b758-7539-474d-b676-5fa7e2480141   \n",
       "199998   Nizamabad Branch     Checking  f6903b6a-b582-47ea-95d5-aff16bdec950   \n",
       "199999      Kohima Branch     Business  b44b6e8a-1036-4ec1-b492-5e7ffc7baf6d   \n",
       "\n",
       "       Transaction_Date  ... Merchant_Category  Account_Balance  \\\n",
       "199995       2025-01-08  ...        Restaurant         37475.11   \n",
       "199996       2025-01-01  ...         Groceries         53037.20   \n",
       "199997       2025-01-28  ...            Health         96225.36   \n",
       "199998       2025-01-08  ...       Electronics         89599.90   \n",
       "199999       2025-01-08  ...       Electronics         15066.24   \n",
       "\n",
       "       Transaction_Device                           Transaction_Location  \\\n",
       "199995     Desktop/Laptop  Diu, Dadra and Nagar Haveli and Daman and Diu   \n",
       "199996                ATM                             Kangpokpi, Manipur   \n",
       "199997                ATM                         Chandigarh, Chandigarh   \n",
       "199998    Voice Assistant                           Nizamabad, Telangana   \n",
       "199999       Virtual Card                               Kohima, Nagaland   \n",
       "\n",
       "       Device_Type  Is_Fraud Transaction_Currency Customer_Contact  \\\n",
       "199995         ATM         0                  INR   +9192629XXXXXX   \n",
       "199996         ATM         0                  INR   +9198116XXXXXX   \n",
       "199997     Desktop         0                  INR   +9192601XXXXXX   \n",
       "199998     Desktop         0                  INR   +9197537XXXXXX   \n",
       "199999      Mobile         0                  INR   +9193961XXXXXX   \n",
       "\n",
       "           Transaction_Description            Customer_Email  \n",
       "199995              ATM withdrawal  vedhikaXXXXX@XXXXXXX.com  \n",
       "199996            Subscription box       aashiXXX@XXXXXX.com  \n",
       "199997            Charity donation    dayitaXXXX@XXXXXXX.com  \n",
       "199998  Tourist attraction payment       unnatiXXX@XXXXX.com  \n",
       "199999         Installment payment    gopalXXXXX@XXXXXXX.com  \n",
       "\n",
       "[5 rows x 24 columns]"
      ]
     },
     "execution_count": 4,
     "metadata": {},
     "output_type": "execute_result"
    }
   ],
   "source": [
    "import pandas as pd\n",
    "import matplotlib.pyplot as plt\n",
    "\n",
    "# Load dataset\n",
    "df = pd.read_csv(\"Bank_Transaction_Dataset.csv\", parse_dates=[\"Transaction_Date\"])\n",
    "\n",
    "# Preview\n",
    "print(df.shape)\n",
    "print(df.dtypes)\n",
    "df.tail()"
   ]
  },
  {
   "cell_type": "code",
   "execution_count": 5,
   "metadata": {},
   "outputs": [
    {
     "name": "stdout",
     "output_type": "stream",
     "text": [
      "count    200000.000000\n",
      "mean      49538.015554\n",
      "std       28551.874004\n",
      "min          10.290000\n",
      "25%       24851.345000\n",
      "50%       49502.440000\n",
      "75%       74314.625000\n",
      "max       98999.980000\n",
      "Name: Transaction_Amount, dtype: float64\n",
      "Number of NaN values in Transaction Amount: 0\n"
     ]
    }
   ],
   "source": [
    "print(df['Transaction_Amount'].describe())\n",
    "\n",
    "#check if transaction amount has NaN values\n",
    "print('Number of NaN values in Transaction Amount:', df['Transaction_Amount'].isna().sum())"
   ]
  },
  {
   "cell_type": "code",
   "execution_count": 6,
   "metadata": {},
   "outputs": [
    {
     "name": "stdout",
     "output_type": "stream",
     "text": [
      "['Transfer' 'Bill Payment' 'Debit' 'Withdrawal' 'Credit']\n"
     ]
    },
    {
     "data": {
      "text/html": [
       "<div>\n",
       "<style scoped>\n",
       "    .dataframe tbody tr th:only-of-type {\n",
       "        vertical-align: middle;\n",
       "    }\n",
       "\n",
       "    .dataframe tbody tr th {\n",
       "        vertical-align: top;\n",
       "    }\n",
       "\n",
       "    .dataframe thead th {\n",
       "        text-align: right;\n",
       "    }\n",
       "</style>\n",
       "<table border=\"1\" class=\"dataframe\">\n",
       "  <thead>\n",
       "    <tr style=\"text-align: right;\">\n",
       "      <th></th>\n",
       "      <th>Transaction_Type</th>\n",
       "      <th>Transaction_Amount</th>\n",
       "      <th>Signed_Amount</th>\n",
       "    </tr>\n",
       "  </thead>\n",
       "  <tbody>\n",
       "    <tr>\n",
       "      <th>0</th>\n",
       "      <td>transfer</td>\n",
       "      <td>32415.45</td>\n",
       "      <td>-32415.45</td>\n",
       "    </tr>\n",
       "    <tr>\n",
       "      <th>1</th>\n",
       "      <td>bill payment</td>\n",
       "      <td>43622.60</td>\n",
       "      <td>-43622.60</td>\n",
       "    </tr>\n",
       "    <tr>\n",
       "      <th>2</th>\n",
       "      <td>bill payment</td>\n",
       "      <td>63062.56</td>\n",
       "      <td>-63062.56</td>\n",
       "    </tr>\n",
       "    <tr>\n",
       "      <th>3</th>\n",
       "      <td>debit</td>\n",
       "      <td>14000.72</td>\n",
       "      <td>-14000.72</td>\n",
       "    </tr>\n",
       "    <tr>\n",
       "      <th>4</th>\n",
       "      <td>transfer</td>\n",
       "      <td>18335.16</td>\n",
       "      <td>-18335.16</td>\n",
       "    </tr>\n",
       "  </tbody>\n",
       "</table>\n",
       "</div>"
      ],
      "text/plain": [
       "  Transaction_Type  Transaction_Amount  Signed_Amount\n",
       "0         transfer            32415.45      -32415.45\n",
       "1     bill payment            43622.60      -43622.60\n",
       "2     bill payment            63062.56      -63062.56\n",
       "3            debit            14000.72      -14000.72\n",
       "4         transfer            18335.16      -18335.16"
      ]
     },
     "execution_count": 6,
     "metadata": {},
     "output_type": "execute_result"
    }
   ],
   "source": [
    "# Preview unique transaction types\n",
    "print(df['Transaction_Type'].unique())\n",
    "\n",
    "df['Transaction_Type'] = df['Transaction_Type'].str.strip().str.lower()\n",
    "\n",
    "# Map types to sign\n",
    "def get_signed_amount(row):\n",
    "    return row['Transaction_Amount'] if row['Transaction_Type'] == 'credit' else -row['Transaction_Amount']\n",
    "\n",
    "# Apply the fixed version\n",
    "df['Signed_Amount'] = df.apply(get_signed_amount, axis=1)\n",
    "\n",
    "# Check again\n",
    "df[['Transaction_Type', 'Transaction_Amount', 'Signed_Amount']].head()"
   ]
  },
  {
   "cell_type": "code",
   "execution_count": 7,
   "metadata": {},
   "outputs": [
    {
     "data": {
      "text/plain": [
       "<Axes: title={'center': 'Daily Net Cash Flow'}, xlabel='Transaction_Date'>"
      ]
     },
     "execution_count": 7,
     "metadata": {},
     "output_type": "execute_result"
    },
    {
     "data": {
      "image/png": "[encoded data removed]",
      "text/plain": [
       "<Figure size 1500x500 with 1 Axes>"
      ]
     },
     "metadata": {},
     "output_type": "display_data"
    }
   ],
   "source": [
    "# Group by date\n",
    "daily_cashflow = df.groupby('Transaction_Date')['Signed_Amount'].sum().reset_index()\n",
    "\n",
    "# Set date as index\n",
    "daily_cashflow.set_index('Transaction_Date', inplace=True)\n",
    "\n",
    "# Plot it\n",
    "daily_cashflow.plot(figsize=(15, 5), title=\"Daily Net Cash Flow\")"
   ]
  },
  {
   "cell_type": "markdown",
   "metadata": {},
   "source": [
    "### Cash Flow Forecasting"
   ]
  },
  {
   "cell_type": "code",
   "execution_count": 8,
   "metadata": {},
   "outputs": [
    {
     "name": "stderr",
     "output_type": "stream",
     "text": [
      "/Users/usmanghani/Desktop/Personal Projects/Cash Flow Forecasting/.venv/lib/python3.10/site-packages/tqdm/auto.py:21: TqdmWarning: IProgress not found. Please update jupyter and ipywidgets. See https://ipywidgets.readthedocs.io/en/stable/user_install.html\n",
      "  from .autonotebook import tqdm as notebook_tqdm\n",
      "Importing plotly failed. Interactive plots will not work.\n"
     ]
    },
    {
     "data": {
      "text/html": [
       "<div>\n",
       "<style scoped>\n",
       "    .dataframe tbody tr th:only-of-type {\n",
       "        vertical-align: middle;\n",
       "    }\n",
       "\n",
       "    .dataframe tbody tr th {\n",
       "        vertical-align: top;\n",
       "    }\n",
       "\n",
       "    .dataframe thead th {\n",
       "        text-align: right;\n",
       "    }\n",
       "</style>\n",
       "<table border=\"1\" class=\"dataframe\">\n",
       "  <thead>\n",
       "    <tr style=\"text-align: right;\">\n",
       "      <th></th>\n",
       "      <th>ds</th>\n",
       "      <th>y</th>\n",
       "    </tr>\n",
       "  </thead>\n",
       "  <tbody>\n",
       "    <tr>\n",
       "      <th>0</th>\n",
       "      <td>2025-01-01</td>\n",
       "      <td>-2.006513e+08</td>\n",
       "    </tr>\n",
       "    <tr>\n",
       "      <th>1</th>\n",
       "      <td>2025-01-02</td>\n",
       "      <td>-1.994558e+08</td>\n",
       "    </tr>\n",
       "    <tr>\n",
       "      <th>2</th>\n",
       "      <td>2025-01-03</td>\n",
       "      <td>-2.056088e+08</td>\n",
       "    </tr>\n",
       "    <tr>\n",
       "      <th>3</th>\n",
       "      <td>2025-01-04</td>\n",
       "      <td>-2.014620e+08</td>\n",
       "    </tr>\n",
       "    <tr>\n",
       "      <th>4</th>\n",
       "      <td>2025-01-05</td>\n",
       "      <td>-1.972158e+08</td>\n",
       "    </tr>\n",
       "  </tbody>\n",
       "</table>\n",
       "</div>"
      ],
      "text/plain": [
       "          ds             y\n",
       "0 2025-01-01 -2.006513e+08\n",
       "1 2025-01-02 -1.994558e+08\n",
       "2 2025-01-03 -2.056088e+08\n",
       "3 2025-01-04 -2.014620e+08\n",
       "4 2025-01-05 -1.972158e+08"
      ]
     },
     "execution_count": 8,
     "metadata": {},
     "output_type": "execute_result"
    }
   ],
   "source": [
    "from prophet import Prophet\n",
    "\n",
    "df_prophet = daily_cashflow.reset_index()\n",
    "df_prophet.columns = ['ds', 'y']  # Prophet needs these exact names\n",
    "\n",
    "df_prophet.head()"
   ]
  },
  {
   "cell_type": "code",
   "execution_count": null,
   "metadata": {},
   "outputs": [
    {
     "name": "stderr",
     "output_type": "stream",
     "text": [
      "08:35:36 - cmdstanpy - INFO - Chain [1] start processing\n"
     ]
    },
    {
     "name": "stderr",
     "output_type": "stream",
     "text": [
      "08:35:36 - cmdstanpy - INFO - Chain [1] done processing\n"
     ]
    },
    {
     "ename": "AttributeError",
     "evalue": "'Prophet' object has no attribute 'save_pretrained'",
     "output_type": "error",
     "traceback": [
      "\u001b[0;31m---------------------------------------------------------------------------\u001b[0m",
      "\u001b[0;31mAttributeError\u001b[0m                            Traceback (most recent call last)",
      "Cell \u001b[0;32mIn[15], line 5\u001b[0m\n\u001b[1;32m      2\u001b[0m model\u001b[38;5;241m.\u001b[39mfit(df_prophet)\n\u001b[1;32m      4\u001b[0m \u001b[38;5;66;03m# Save model\u001b[39;00m\n\u001b[0;32m----> 5\u001b[0m \u001b[43mmodel\u001b[49m\u001b[38;5;241;43m.\u001b[39;49m\u001b[43msave_pretrained\u001b[49m(\u001b[38;5;124m\"\u001b[39m\u001b[38;5;124mdistilbert_model\u001b[39m\u001b[38;5;124m\"\u001b[39m)\n\u001b[1;32m      7\u001b[0m \u001b[38;5;66;03m# Save tokenizer (must be the one used to train)\u001b[39;00m\n\u001b[1;32m      8\u001b[0m tokenizer\u001b[38;5;241m.\u001b[39msave_pretrained(\u001b[38;5;124m\"\u001b[39m\u001b[38;5;124mdistilbert_model\u001b[39m\u001b[38;5;124m\"\u001b[39m)\n",
      "\u001b[0;31mAttributeError\u001b[0m: 'Prophet' object has no attribute 'save_pretrained'"
     ]
    }
   ],
   "source": [
    "model = Prophet()\n",
    "model.fit(df_prophet)\n",
    "\n",
    "\n",
    "# Make future dataframe\n",
    "future = model.make_future_dataframe(periods=30)  # next 30 days\n",
    "forecast = model.predict(future)\n",
    "\n",
    "# create forecast.csv and save it\n",
    "forecast.to_csv(\"forecast.csv\", index=False)\n",
    "\n",
    "# Plot forecast\n",
    "fig = model.plot(forecast)"
   ]
  },
  {
   "cell_type": "code",
   "execution_count": 82,
   "metadata": {},
   "outputs": [
    {
     "name": "stderr",
     "output_type": "stream",
     "text": [
      "  0%|          | 0/1 [00:00<?, ?it/s]06:36:28 - cmdstanpy - INFO - Chain [1] start processing\n",
      "huggingface/tokenizers: The current process just got forked, after parallelism has already been used. Disabling parallelism to avoid deadlocks...\n",
      "To disable this warning, you can either:\n",
      "\t- Avoid using `tokenizers` before the fork if possible\n",
      "\t- Explicitly set the environment variable TOKENIZERS_PARALLELISM=(true | false)\n",
      "06:36:28 - cmdstanpy - INFO - Chain [1] done processing\n",
      "100%|██████████| 1/1 [00:00<00:00, 13.49it/s]"
     ]
    },
    {
     "name": "stdout",
     "output_type": "stream",
     "text": [
      "  horizon           mae          rmse\n",
      "0  1 days  1.104016e+07  1.104016e+07\n",
      "1  2 days  3.818120e+06  3.818120e+06\n",
      "2  3 days  1.004679e+07  1.004679e+07\n",
      "3  4 days  5.616550e+06  5.616550e+06\n",
      "4  5 days  4.348747e+06  4.348747e+06\n",
      "5  6 days  4.838319e+06  4.838319e+06\n",
      "6  7 days  1.960812e+08  1.960812e+08\n"
     ]
    },
    {
     "name": "stderr",
     "output_type": "stream",
     "text": [
      "\n"
     ]
    }
   ],
   "source": [
    "from prophet.diagnostics import cross_validation, performance_metrics\n",
    "\n",
    "df_cv = cross_validation(model, initial='20 days', period='5 days', horizon='7 days')\n",
    "df_p = performance_metrics(df_cv)\n",
    "print(df_p[['horizon', 'mae', 'rmse']])"
   ]
  },
  {
   "cell_type": "markdown",
   "metadata": {},
   "source": [
    "### Transaction Categorization"
   ]
  },
  {
   "cell_type": "code",
   "execution_count": 83,
   "metadata": {},
   "outputs": [
    {
     "data": {
      "text/plain": [
       "Merchant_Category\n",
       "Restaurant       33525\n",
       "Entertainment    33421\n",
       "Electronics      33409\n",
       "Clothing         33340\n",
       "Groceries        33187\n",
       "Health           33118\n",
       "Name: count, dtype: int64"
      ]
     },
     "execution_count": 83,
     "metadata": {},
     "output_type": "execute_result"
    }
   ],
   "source": [
    "df['Merchant_Category'].value_counts()"
   ]
  },
  {
   "cell_type": "code",
   "execution_count": 84,
   "metadata": {},
   "outputs": [],
   "source": [
    "import pandas as pd\n",
    "from datasets import Dataset\n",
    "\n",
    "# Clean and filter\n",
    "df = df[df['Merchant_Category'].notnull()].copy()\n",
    "df['text'] = df['Transaction_Description'].fillna(\"\").str.lower().str.strip()\n",
    "df = df[['text', 'Merchant_Category']]\n",
    "\n",
    "# Encode labels\n",
    "labels = df['Merchant_Category'].unique().tolist()\n",
    "label2id = {label: i for i, label in enumerate(labels)}\n",
    "id2label = {i: label for label, i in label2id.items()}\n",
    "df['label'] = df['Merchant_Category'].map(label2id)\n",
    "\n",
    "# Convert to Hugging Face Dataset\n",
    "hf_dataset = Dataset.from_pandas(df[['text', 'label']])\n",
    "hf_dataset = hf_dataset.train_test_split(test_size=0.2)"
   ]
  },
  {
   "cell_type": "code",
   "execution_count": 85,
   "metadata": {},
   "outputs": [
    {
     "name": "stderr",
     "output_type": "stream",
     "text": [
      "Map: 100%|██████████| 160000/160000 [00:02<00:00, 63106.48 examples/s]\n",
      "Map: 100%|██████████| 40000/40000 [00:00<00:00, 44262.82 examples/s]\n"
     ]
    }
   ],
   "source": [
    "from transformers import DistilBertTokenizerFast\n",
    "\n",
    "tokenizer = DistilBertTokenizerFast.from_pretrained(\"distilbert-base-uncased\")\n",
    "\n",
    "def tokenize(batch):\n",
    "    return tokenizer(batch['text'], padding=True, truncation=True)\n",
    "\n",
    "tokenized_dataset = hf_dataset.map(tokenize, batched=True)"
   ]
  },
  {
   "cell_type": "code",
   "execution_count": 106,
   "metadata": {},
   "outputs": [
    {
     "name": "stderr",
     "output_type": "stream",
     "text": [
      "Some weights of DistilBertForSequenceClassification were not initialized from the model checkpoint at distilbert-base-uncased and are newly initialized: ['classifier.bias', 'classifier.weight', 'pre_classifier.bias', 'pre_classifier.weight']\n",
      "You should probably TRAIN this model on a down-stream task to be able to use it for predictions and inference.\n"
     ]
    },
    {
     "name": "stdout",
     "output_type": "stream",
     "text": [
      "Starting training...\n",
      "Epoch 1/3\n",
      "Train Loss: 1.7931\n",
      "Eval Accuracy: 0.1653\n",
      "Eval F1: 0.0469\n",
      "------------------------------\n"
     ]
    },
    {
     "ename": "KeyboardInterrupt",
     "evalue": "",
     "output_type": "error",
     "traceback": [
      "\u001b[0;31m---------------------------------------------------------------------------\u001b[0m",
      "\u001b[0;31mKeyboardInterrupt\u001b[0m                         Traceback (most recent call last)",
      "Cell \u001b[0;32mIn[106], line 103\u001b[0m\n\u001b[1;32m    100\u001b[0m \u001b[38;5;28mprint\u001b[39m(\u001b[38;5;124m\"\u001b[39m\u001b[38;5;124mStarting training...\u001b[39m\u001b[38;5;124m\"\u001b[39m)\n\u001b[1;32m    101\u001b[0m \u001b[38;5;28;01mfor\u001b[39;00m epoch \u001b[38;5;129;01min\u001b[39;00m \u001b[38;5;28mrange\u001b[39m(num_epochs):\n\u001b[1;32m    102\u001b[0m     \u001b[38;5;66;03m# Train\u001b[39;00m\n\u001b[0;32m--> 103\u001b[0m     train_loss \u001b[38;5;241m=\u001b[39m \u001b[43mtrain_epoch\u001b[49m\u001b[43m(\u001b[49m\u001b[43mmodel\u001b[49m\u001b[43m,\u001b[49m\u001b[43m \u001b[49m\u001b[43mtrain_loader\u001b[49m\u001b[43m,\u001b[49m\u001b[43m \u001b[49m\u001b[43moptimizer\u001b[49m\u001b[43m,\u001b[49m\u001b[43m \u001b[49m\u001b[43mdevice\u001b[49m\u001b[43m)\u001b[49m\n\u001b[1;32m    105\u001b[0m     \u001b[38;5;66;03m# Evaluate\u001b[39;00m\n\u001b[1;32m    106\u001b[0m     accuracy, f1 \u001b[38;5;241m=\u001b[39m evaluate(model, eval_loader, device)\n",
      "Cell \u001b[0;32mIn[106], line 58\u001b[0m, in \u001b[0;36mtrain_epoch\u001b[0;34m(model, train_loader, optimizer, device)\u001b[0m\n\u001b[1;32m     56\u001b[0m \u001b[38;5;66;03m# Backward pass\u001b[39;00m\n\u001b[1;32m     57\u001b[0m optimizer\u001b[38;5;241m.\u001b[39mzero_grad()\n\u001b[0;32m---> 58\u001b[0m \u001b[43mloss\u001b[49m\u001b[38;5;241;43m.\u001b[39;49m\u001b[43mbackward\u001b[49m\u001b[43m(\u001b[49m\u001b[43m)\u001b[49m\n\u001b[1;32m     59\u001b[0m optimizer\u001b[38;5;241m.\u001b[39mstep()\n\u001b[1;32m     61\u001b[0m total_loss \u001b[38;5;241m+\u001b[39m\u001b[38;5;241m=\u001b[39m loss\u001b[38;5;241m.\u001b[39mitem()\n",
      "File \u001b[0;32m~/Desktop/Personal Projects/Cash Flow Forecasting/.venv/lib/python3.10/site-packages/torch/_tensor.py:648\u001b[0m, in \u001b[0;36mbackward\u001b[0;34m(self, gradient, retain_graph, create_graph, inputs)\u001b[0m\n\u001b[1;32m    630\u001b[0m \u001b[38;5;28;01mdef\u001b[39;00m\u001b[38;5;250m \u001b[39m\u001b[38;5;21mregister_hook\u001b[39m(\u001b[38;5;28mself\u001b[39m, hook):\n\u001b[1;32m    631\u001b[0m \u001b[38;5;250m    \u001b[39m\u001b[38;5;124mr\u001b[39m\u001b[38;5;124;03m\"\"\"Registers a backward hook.\u001b[39;00m\n\u001b[1;32m    632\u001b[0m \n\u001b[1;32m    633\u001b[0m \u001b[38;5;124;03m    The hook will be called every time a gradient with respect to the\u001b[39;00m\n\u001b[1;32m    634\u001b[0m \u001b[38;5;124;03m    Tensor is computed. The hook should have the following signature::\u001b[39;00m\n\u001b[1;32m    635\u001b[0m \n\u001b[1;32m    636\u001b[0m \u001b[38;5;124;03m        hook(grad) -> Tensor or None\u001b[39;00m\n\u001b[1;32m    637\u001b[0m \n\u001b[1;32m    638\u001b[0m \n\u001b[1;32m    639\u001b[0m \u001b[38;5;124;03m    The hook should not modify its argument, but it can optionally return\u001b[39;00m\n\u001b[1;32m    640\u001b[0m \u001b[38;5;124;03m    a new gradient which will be used in place of :attr:`grad`.\u001b[39;00m\n\u001b[1;32m    641\u001b[0m \n\u001b[1;32m    642\u001b[0m \u001b[38;5;124;03m    This function returns a handle with a method ``handle.remove()``\u001b[39;00m\n\u001b[1;32m    643\u001b[0m \u001b[38;5;124;03m    that removes the hook from the module.\u001b[39;00m\n\u001b[1;32m    644\u001b[0m \n\u001b[1;32m    645\u001b[0m \u001b[38;5;124;03m    .. note::\u001b[39;00m\n\u001b[1;32m    646\u001b[0m \u001b[38;5;124;03m        See :ref:`backward-hooks-execution` for more information on how when this hook\u001b[39;00m\n\u001b[1;32m    647\u001b[0m \u001b[38;5;124;03m        is executed, and how its execution is ordered relative to other hooks.\u001b[39;00m\n\u001b[0;32m--> 648\u001b[0m \n\u001b[1;32m    649\u001b[0m \u001b[38;5;124;03m    Example::\u001b[39;00m\n\u001b[1;32m    650\u001b[0m \n\u001b[1;32m    651\u001b[0m \u001b[38;5;124;03m        >>> v = torch.tensor([0., 0., 0.], requires_grad=True)\u001b[39;00m\n\u001b[1;32m    652\u001b[0m \u001b[38;5;124;03m        >>> h = v.register_hook(lambda grad: grad * 2)  # double the gradient\u001b[39;00m\n\u001b[1;32m    653\u001b[0m \u001b[38;5;124;03m        >>> v.backward(torch.tensor([1., 2., 3.]))\u001b[39;00m\n\u001b[1;32m    654\u001b[0m \u001b[38;5;124;03m        >>> v.grad\u001b[39;00m\n\u001b[1;32m    655\u001b[0m \n\u001b[1;32m    656\u001b[0m \u001b[38;5;124;03m         2\u001b[39;00m\n\u001b[1;32m    657\u001b[0m \u001b[38;5;124;03m         4\u001b[39;00m\n\u001b[1;32m    658\u001b[0m \u001b[38;5;124;03m         6\u001b[39;00m\n\u001b[1;32m    659\u001b[0m \u001b[38;5;124;03m        [torch.FloatTensor of size (3,)]\u001b[39;00m\n\u001b[1;32m    660\u001b[0m \n\u001b[1;32m    661\u001b[0m \u001b[38;5;124;03m        >>> h.remove()  # removes the hook\u001b[39;00m\n\u001b[1;32m    662\u001b[0m \u001b[38;5;124;03m    \"\"\"\u001b[39;00m\n\u001b[1;32m    663\u001b[0m     \u001b[38;5;28;01mif\u001b[39;00m has_torch_function_unary(\u001b[38;5;28mself\u001b[39m):\n\u001b[1;32m    664\u001b[0m         \u001b[38;5;28;01mreturn\u001b[39;00m handle_torch_function(Tensor\u001b[38;5;241m.\u001b[39mregister_hook, (\u001b[38;5;28mself\u001b[39m,), \u001b[38;5;28mself\u001b[39m, hook)\n",
      "File \u001b[0;32m~/Desktop/Personal Projects/Cash Flow Forecasting/.venv/lib/python3.10/site-packages/torch/autograd/__init__.py:353\u001b[0m, in \u001b[0;36mbackward\u001b[0;34m(tensors, grad_tensors, retain_graph, create_graph, grad_variables, inputs)\u001b[0m\n\u001b[1;32m    342\u001b[0m     retain_graph \u001b[38;5;241m=\u001b[39m create_graph\n\u001b[1;32m    344\u001b[0m \u001b[38;5;66;03m# The reason we repeat the same comment below is that\u001b[39;00m\n\u001b[1;32m    345\u001b[0m \u001b[38;5;66;03m# some Python versions print out the first line of a multi-line function\u001b[39;00m\n\u001b[1;32m    346\u001b[0m \u001b[38;5;66;03m# calls in the traceback and some print out the last line\u001b[39;00m\n\u001b[1;32m    347\u001b[0m _engine_run_backward(\n\u001b[1;32m    348\u001b[0m     tensors,\n\u001b[1;32m    349\u001b[0m     grad_tensors_,\n\u001b[1;32m    350\u001b[0m     retain_graph,\n\u001b[1;32m    351\u001b[0m     create_graph,\n\u001b[1;32m    352\u001b[0m     inputs,\n\u001b[0;32m--> 353\u001b[0m     allow_unreachable\u001b[38;5;241m=\u001b[39m\u001b[38;5;28;01mTrue\u001b[39;00m,\n\u001b[1;32m    354\u001b[0m     accumulate_grad\u001b[38;5;241m=\u001b[39m\u001b[38;5;28;01mTrue\u001b[39;00m,\n\u001b[1;32m    355\u001b[0m )\n",
      "File \u001b[0;32m~/Desktop/Personal Projects/Cash Flow Forecasting/.venv/lib/python3.10/site-packages/torch/autograd/graph.py:824\u001b[0m, in \u001b[0;36m_engine_run_backward\u001b[0;34m(t_outputs, *args, **kwargs)\u001b[0m\n\u001b[1;32m    821\u001b[0m     unregister_hooks \u001b[38;5;241m=\u001b[39m _register_logging_hooks_on_whole_graph(t_outputs)\n\u001b[1;32m    822\u001b[0m \u001b[38;5;28;01mtry\u001b[39;00m:\n\u001b[1;32m    823\u001b[0m     \u001b[38;5;28;01mreturn\u001b[39;00m Variable\u001b[38;5;241m.\u001b[39m_execution_engine\u001b[38;5;241m.\u001b[39mrun_backward(  \u001b[38;5;66;03m# Calls into the C++ engine to run the backward pass\u001b[39;00m\n\u001b[0;32m--> 824\u001b[0m         t_outputs, \u001b[38;5;241m*\u001b[39margs, \u001b[38;5;241m*\u001b[39m\u001b[38;5;241m*\u001b[39mkwargs\n\u001b[1;32m    825\u001b[0m     )  \u001b[38;5;66;03m# Calls into the C++ engine to run the backward pass\u001b[39;00m\n\u001b[1;32m    826\u001b[0m \u001b[38;5;28;01mfinally\u001b[39;00m:\n\u001b[1;32m    827\u001b[0m     \u001b[38;5;28;01mif\u001b[39;00m attach_logging_hooks:\n",
      "\u001b[0;31mKeyboardInterrupt\u001b[0m: "
     ]
    }
   ],
   "source": [
    "import torch\n",
    "from transformers import DistilBertForSequenceClassification\n",
    "from torch.optim import AdamW  # Import AdamW from torch.optim instead\n",
    "from torch.utils.data import DataLoader\n",
    "from sklearn.metrics import accuracy_score, f1_score\n",
    "import numpy as np\n",
    "\n",
    "# Load model\n",
    "model = DistilBertForSequenceClassification.from_pretrained(\n",
    "    \"distilbert-base-uncased\",\n",
    "    num_labels=len(labels),\n",
    "    id2label=id2label,\n",
    "    label2id=label2id\n",
    ")\n",
    "\n",
    "# Set device\n",
    "device = torch.device('cuda' if torch.cuda.is_available() else 'cpu')\n",
    "model.to(device)\n",
    "\n",
    "# Set dataset format to PyTorch tensors\n",
    "tokenized_dataset.set_format(type='torch', columns=['input_ids', 'attention_mask', 'labels'])\n",
    "\n",
    "# Import data collator for padding\n",
    "from transformers import DataCollatorWithPadding\n",
    "\n",
    "# Create data collator (assumes you have 'tokenizer' available)\n",
    "data_collator = DataCollatorWithPadding(tokenizer=tokenizer)\n",
    "\n",
    "# Create data loaders with padding\n",
    "train_loader = DataLoader(tokenized_dataset[\"train\"], batch_size=16, shuffle=True, collate_fn=data_collator)\n",
    "eval_loader = DataLoader(tokenized_dataset[\"test\"], batch_size=16, shuffle=False, collate_fn=data_collator)\n",
    "\n",
    "# Setup optimizer\n",
    "optimizer = AdamW(model.parameters(), lr=5e-5)\n",
    "\n",
    "# Training function\n",
    "def train_epoch(model, train_loader, optimizer, device):\n",
    "    model.train()\n",
    "    total_loss = 0\n",
    "    \n",
    "    for batch in train_loader:\n",
    "        # Move batch to device - handle both tensor and list formats\n",
    "        if isinstance(batch['input_ids'], list):\n",
    "            input_ids = torch.tensor(batch['input_ids']).to(device)\n",
    "            attention_mask = torch.tensor(batch['attention_mask']).to(device)\n",
    "            labels = torch.tensor(batch['labels']).to(device)\n",
    "        else:\n",
    "            input_ids = batch['input_ids'].to(device)\n",
    "            attention_mask = batch['attention_mask'].to(device)\n",
    "            labels = batch['labels'].to(device)\n",
    "        \n",
    "        # Forward pass\n",
    "        outputs = model(input_ids=input_ids, attention_mask=attention_mask, labels=labels)\n",
    "        loss = outputs.loss\n",
    "        \n",
    "        # Backward pass\n",
    "        optimizer.zero_grad()\n",
    "        loss.backward()\n",
    "        optimizer.step()\n",
    "        \n",
    "        total_loss += loss.item()\n",
    "    \n",
    "    return total_loss / len(train_loader)\n",
    "\n",
    "# Evaluation function\n",
    "def evaluate(model, eval_loader, device):\n",
    "    model.eval()\n",
    "    predictions = []\n",
    "    true_labels = []\n",
    "    \n",
    "    with torch.no_grad():\n",
    "        for batch in eval_loader:\n",
    "            # Handle both tensor and list formats\n",
    "            if isinstance(batch['input_ids'], list):\n",
    "                input_ids = torch.tensor(batch['input_ids']).to(device)\n",
    "                attention_mask = torch.tensor(batch['attention_mask']).to(device)\n",
    "                labels = torch.tensor(batch['labels']).to(device)\n",
    "            else:\n",
    "                input_ids = batch['input_ids'].to(device)\n",
    "                attention_mask = batch['attention_mask'].to(device)\n",
    "                labels = batch['labels'].to(device)\n",
    "            \n",
    "            outputs = model(input_ids=input_ids, attention_mask=attention_mask)\n",
    "            logits = outputs.logits\n",
    "            \n",
    "            preds = torch.argmax(logits, dim=-1)\n",
    "            predictions.extend(preds.cpu().numpy())\n",
    "            true_labels.extend(labels.cpu().numpy())\n",
    "    \n",
    "    accuracy = accuracy_score(true_labels, predictions)\n",
    "    f1 = f1_score(true_labels, predictions, average='weighted')\n",
    "    \n",
    "    return accuracy, f1\n",
    "\n",
    "# Training loop\n",
    "num_epochs = 3\n",
    "best_accuracy = 0\n",
    "best_model_state = None\n",
    "\n",
    "print(\"Starting training...\")\n",
    "for epoch in range(num_epochs):\n",
    "    # Train\n",
    "    train_loss = train_epoch(model, train_loader, optimizer, device)\n",
    "    \n",
    "    # Evaluate\n",
    "    accuracy, f1 = evaluate(model, eval_loader, device)\n",
    "    \n",
    "    print(f\"Epoch {epoch+1}/{num_epochs}\")\n",
    "    print(f\"Train Loss: {train_loss:.4f}\")\n",
    "    print(f\"Eval Accuracy: {accuracy:.4f}\")\n",
    "    print(f\"Eval F1: {f1:.4f}\")\n",
    "    print(\"-\" * 30)\n",
    "    \n",
    "    # Save best model\n",
    "    if accuracy > best_accuracy:\n",
    "        best_accuracy = accuracy\n",
    "        best_model_state = model.state_dict().copy()\n",
    "\n",
    "# Load best model\n",
    "if best_model_state is not None:\n",
    "    model.load_state_dict(best_model_state)\n",
    "    print(f\"Best model loaded with accuracy: {best_accuracy:.4f}\")\n",
    "\n",
    "print(\"Training completed!\")"
   ]
  }
 ],
 "metadata": {
  "kernelspec": {
   "display_name": ".venv",
   "language": "python",
   "name": "python3"
  },
  "language_info": {
   "codemirror_mode": {
    "name": "ipython",
    "version": 3
   },
   "file_extension": ".py",
   "mimetype": "text/x-python",
   "name": "python",
   "nbconvert_exporter": "python",
   "pygments_lexer": "ipython3",
   "version": "3.10.4"
  }
 },
 "nbformat": 4,
 "nbformat_minor": 2
}
